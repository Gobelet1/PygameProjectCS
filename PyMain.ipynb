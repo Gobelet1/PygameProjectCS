%%writefile my_script.py

import pygame

def greet():
    print("Hello from a script!")

greet()
